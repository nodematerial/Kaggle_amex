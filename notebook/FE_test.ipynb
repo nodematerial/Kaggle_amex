{
 "cells": [
  {
   "cell_type": "code",
   "execution_count": 1,
   "id": "3bbee977-cc6b-4bcc-9531-0f39d636379f",
   "metadata": {},
   "outputs": [],
   "source": [
    "import pandas as pd\n",
    "import numpy as np\n",
    "import os\n",
    "import gc\n",
    "import joblib\n",
    "from datetime import datetime as dt"
   ]
  },
  {
   "cell_type": "code",
   "execution_count": 6,
   "id": "30a0bbc4-0375-4d8a-bc36-a62b9f62db97",
   "metadata": {},
   "outputs": [],
   "source": [
    "def process_and_feature_engineer(df):\n",
    "    # FEATURE ENGINEERING FROM \n",
    "    # https://www.kaggle.com/code/huseyincot/amex-agg-data-how-it-created\n",
    "    all_cols = [c for c in list(df.columns) if c not in ['customer_ID','S_2']]\n",
    "    cat_features = [\"B_30\",\"B_38\",\"D_114\",\"D_116\",\"D_117\",\"D_120\",\"D_126\",\"D_63\",\"D_64\",\"D_66\",\"D_68\"]\n",
    "    num_features = [col for col in all_cols if col not in cat_features]\n",
    "\n",
    "    test_num_agg = df.groupby(\"customer_ID\")[num_features].agg(['mean', 'std', 'min', 'max', 'last'])\n",
    "    test_num_agg.columns = ['_'.join(x) for x in test_num_agg.columns]\n",
    "\n",
    "    test_cat_agg = df.groupby(\"customer_ID\")[cat_features].agg(['count', 'last', 'nunique'])\n",
    "    test_cat_agg.columns = ['_'.join(x) for x in test_cat_agg.columns]\n",
    "\n",
    "    df = pd.concat([test_num_agg, test_cat_agg], axis=1)\n",
    "    del test_num_agg, test_cat_agg\n",
    "    print('shape after engineering', df.shape )\n",
    "    \n",
    "    return df"
   ]
  },
  {
   "cell_type": "code",
   "execution_count": 3,
   "id": "b8673344-7dc5-42f8-b3a6-4464e0617241",
   "metadata": {},
   "outputs": [],
   "source": [
    "train_df = pd.read_feather('../data/raw/train_data.ftr')\n",
    "test_df  = pd.read_feather('../data/raw/test_data.ftr')"
   ]
  },
  {
   "cell_type": "code",
   "execution_count": 7,
   "id": "abe6c29e-74f2-43ac-a24d-33c4b2cfdd41",
   "metadata": {},
   "outputs": [
    {
     "name": "stdout",
     "output_type": "stream",
     "text": [
      "shape after engineering (458913, 923)\n"
     ]
    }
   ],
   "source": [
    "train_df = process_and_feature_engineer(train_df)"
   ]
  },
  {
   "cell_type": "code",
   "execution_count": 9,
   "id": "74ebdc39-630b-4886-8b01-d138ea24338b",
   "metadata": {},
   "outputs": [
    {
     "data": {
      "text/plain": [
       "Index(['P_2_mean', 'P_2_std', 'P_2_min', 'P_2_max', 'P_2_last', 'D_39_mean',\n",
       "       'D_39_std', 'D_39_min', 'D_39_max', 'D_39_last',\n",
       "       ...\n",
       "       'D_63_nunique', 'D_64_count', 'D_64_last', 'D_64_nunique', 'D_66_count',\n",
       "       'D_66_last', 'D_66_nunique', 'D_68_count', 'D_68_last', 'D_68_nunique'],\n",
       "      dtype='object', length=923)"
      ]
     },
     "execution_count": 9,
     "metadata": {},
     "output_type": "execute_result"
    }
   ],
   "source": [
    "train_df"
   ]
  },
  {
   "cell_type": "code",
   "execution_count": null,
   "id": "9fd6ad98-c124-497c-a57d-3e871fe8f9c0",
   "metadata": {},
   "outputs": [],
   "source": []
  }
 ],
 "metadata": {
  "kernelspec": {
   "display_name": "Python 3",
   "language": "python",
   "name": "python3"
  },
  "language_info": {
   "codemirror_mode": {
    "name": "ipython",
    "version": 3
   },
   "file_extension": ".py",
   "mimetype": "text/x-python",
   "name": "python",
   "nbconvert_exporter": "python",
   "pygments_lexer": "ipython3",
   "version": "3.8.8"
  }
 },
 "nbformat": 4,
 "nbformat_minor": 5
}
